{
 "cells": [
  {
   "cell_type": "code",
   "execution_count": 58,
   "metadata": {},
   "outputs": [],
   "source": [
    "import pandas as pd\n",
    "import os\n",
    "import ipywidgets as widgets\n",
    "from IPython.display import display"
   ]
  },
  {
   "cell_type": "code",
   "execution_count": null,
   "metadata": {},
   "outputs": [],
   "source": [
    "# List all files in the data folder\n",
    "data_folder = 'data'\n",
    "files = os.listdir(data_folder)\n",
    "\n",
    "# Create a Dropdown widget\n",
    "dropdown = widgets.Dropdown(\n",
    "    options=files,\n",
    "    description='Files:',\n",
    "    disabled=False,\n",
    ")\n",
    "\n",
    "# Display the Dropdown widget\n",
    "display(dropdown)"
   ]
  },
  {
   "cell_type": "code",
   "execution_count": null,
   "metadata": {},
   "outputs": [],
   "source": [
    "# Load the selected file as a DataFrame\n",
    "selected_file = dropdown.value\n",
    "file_path = os.path.join(data_folder, selected_file)\n",
    "df = pd.read_csv(file_path)\n",
    "df = df[df.label != \"none\"].dropna()\n",
    "df['timestamp'] = pd.to_datetime(df['timestamp']).apply(pd.Timestamp.isoformat).str[:-3] + 'Z'\n",
    "\n",
    "df['test'] = df.acceleration_x.rolling(window=100).mean()\n",
    "\n",
    "# Display the DataFrame\n",
    "df.head(100)"
   ]
  },
  {
   "cell_type": "code",
   "execution_count": null,
   "metadata": {},
   "outputs": [],
   "source": [
    "# Flatten the DataFrame\n",
    "flattened_df = df.melt(id_vars=['timestamp', 'label'], var_name='series', value_name='value')\n",
    "flattened_df = flattened_df.dropna()\n",
    "# Display the flattened DataFrame\n",
    "flattened_df = flattened_df.groupby(['timestamp', 'series']).agg({\"value\": \"mean\", 'label': pd.Series.mode}) #.sort_values(by=['timestamp', 'series'])\n",
    "flattened_df.head(50)"
   ]
  },
  {
   "cell_type": "code",
   "execution_count": 62,
   "metadata": {},
   "outputs": [],
   "source": [
    "flattened_df.reset_index()[[\"series\", \"timestamp\", \"value\", \"label\"]].to_csv('flattened_data.csv', index=False)"
   ]
  },
  {
   "cell_type": "code",
   "execution_count": null,
   "metadata": {},
   "outputs": [],
   "source": []
  }
 ],
 "metadata": {
  "kernelspec": {
   "display_name": ".venv",
   "language": "python",
   "name": "python3"
  },
  "language_info": {
   "codemirror_mode": {
    "name": "ipython",
    "version": 3
   },
   "file_extension": ".py",
   "mimetype": "text/x-python",
   "name": "python",
   "nbconvert_exporter": "python",
   "pygments_lexer": "ipython3",
   "version": "3.13.1"
  }
 },
 "nbformat": 4,
 "nbformat_minor": 2
}
