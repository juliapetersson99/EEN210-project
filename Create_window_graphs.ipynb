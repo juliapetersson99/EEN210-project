{
 "cells": [
  {
   "cell_type": "code",
   "execution_count": null,
   "metadata": {},
   "outputs": [],
   "source": [
    "import pandas as pd\n",
    "import utils.plotting as pl\n",
    "import utils.process as pp\n",
    "\n",
    "file_proccessed = 'data/Sara_first_gym.csv'\n",
    "\n",
    "data= pd.read_csv(file_proccessed)\n",
    "data = pp.add_missing_labels(data)\n",
    "data = data[data['label'] != 'none']\n",
    "data.reset_index(inplace=True)\n",
    "window_data = pp.split_dataframe_into_sliding_windows(data, \"20s\")"
   ]
  },
  {
   "cell_type": "code",
   "execution_count": 2,
   "metadata": {},
   "outputs": [],
   "source": [
    "\n",
    "import os\n",
    "\n",
    "folder = 'plots/' + file_proccessed.replace('.csv', '') + '/'\n",
    "if not os.path.exists(folder):\n",
    "    os.makedirs(folder)\n",
    "\n"
   ]
  },
  {
   "cell_type": "code",
   "execution_count": null,
   "metadata": {},
   "outputs": [],
   "source": []
  },
  {
   "cell_type": "code",
   "execution_count": null,
   "metadata": {},
   "outputs": [],
   "source": [
    "idx = 0\n",
    "for window in window_data:\n",
    "    pl.plot_with_labels(window, folder + file_proccessed+str(idx))\n",
    "    idx += 1"
   ]
  },
  {
   "cell_type": "code",
   "execution_count": null,
   "metadata": {},
   "outputs": [],
   "source": []
  }
 ],
 "metadata": {
  "kernelspec": {
   "display_name": ".venv",
   "language": "python",
   "name": "python3"
  },
  "language_info": {
   "codemirror_mode": {
    "name": "ipython",
    "version": 3
   },
   "file_extension": ".py",
   "mimetype": "text/x-python",
   "name": "python",
   "nbconvert_exporter": "python",
   "pygments_lexer": "ipython3",
   "version": "3.13.1"
  }
 },
 "nbformat": 4,
 "nbformat_minor": 2
}
