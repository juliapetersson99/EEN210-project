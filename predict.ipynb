{
 "cells": [
  {
   "cell_type": "code",
   "execution_count": 27,
   "metadata": {},
   "outputs": [],
   "source": [
    "# Import libraries\n",
    "import pandas as pd\n",
    "from sklearn.model_selection import train_test_split\n",
    "from sklearn.ensemble import RandomForestClassifier\n",
    "from sklearn.metrics import accuracy_score\n"
   ]
  },
  {
   "cell_type": "code",
   "execution_count": 32,
   "metadata": {},
   "outputs": [],
   "source": [
    "import glob\n",
    "\n",
    "# Get list of all CSV files in the directory\n",
    "csv_files = glob.glob('*.csv')\n",
    "\n",
    "# Read and concatenate all CSV files\n",
    "data_frames = [pd.read_csv(file) for file in csv_files]\n",
    "data = pd.concat(data_frames, ignore_index=True)\n",
    "\n",
    "data = data[data.label != \"none\"].dropna()\n",
    "\n"
   ]
  },
  {
   "cell_type": "code",
   "execution_count": 29,
   "metadata": {},
   "outputs": [
    {
     "data": {
      "text/html": [
       "<div>\n",
       "<style scoped>\n",
       "    .dataframe tbody tr th:only-of-type {\n",
       "        vertical-align: middle;\n",
       "    }\n",
       "\n",
       "    .dataframe tbody tr th {\n",
       "        vertical-align: top;\n",
       "    }\n",
       "\n",
       "    .dataframe thead th {\n",
       "        text-align: right;\n",
       "    }\n",
       "</style>\n",
       "<table border=\"1\" class=\"dataframe\">\n",
       "  <thead>\n",
       "    <tr style=\"text-align: right;\">\n",
       "      <th></th>\n",
       "      <th>acceleration_x</th>\n",
       "      <th>acceleration_y</th>\n",
       "      <th>acceleration_z</th>\n",
       "      <th>gyroscope_x</th>\n",
       "      <th>gyroscope_y</th>\n",
       "      <th>gyroscope_z</th>\n",
       "    </tr>\n",
       "  </thead>\n",
       "  <tbody>\n",
       "    <tr>\n",
       "      <th>count</th>\n",
       "      <td>5933.000000</td>\n",
       "      <td>5933.000000</td>\n",
       "      <td>5933.000000</td>\n",
       "      <td>5933.000000</td>\n",
       "      <td>5933.000000</td>\n",
       "      <td>5933.000000</td>\n",
       "    </tr>\n",
       "    <tr>\n",
       "      <th>mean</th>\n",
       "      <td>-2727.422552</td>\n",
       "      <td>-615.323951</td>\n",
       "      <td>199.302208</td>\n",
       "      <td>-677.970504</td>\n",
       "      <td>109.168212</td>\n",
       "      <td>-190.047194</td>\n",
       "    </tr>\n",
       "    <tr>\n",
       "      <th>std</th>\n",
       "      <td>1672.430265</td>\n",
       "      <td>1235.594803</td>\n",
       "      <td>2132.839151</td>\n",
       "      <td>2695.541801</td>\n",
       "      <td>3145.529226</td>\n",
       "      <td>1889.699047</td>\n",
       "    </tr>\n",
       "    <tr>\n",
       "      <th>min</th>\n",
       "      <td>-28028.000000</td>\n",
       "      <td>-32768.000000</td>\n",
       "      <td>-11878.000000</td>\n",
       "      <td>-32768.000000</td>\n",
       "      <td>-32768.000000</td>\n",
       "      <td>-32768.000000</td>\n",
       "    </tr>\n",
       "    <tr>\n",
       "      <th>25%</th>\n",
       "      <td>-3850.000000</td>\n",
       "      <td>-454.000000</td>\n",
       "      <td>-928.000000</td>\n",
       "      <td>-1043.000000</td>\n",
       "      <td>-45.000000</td>\n",
       "      <td>-192.000000</td>\n",
       "    </tr>\n",
       "    <tr>\n",
       "      <th>50%</th>\n",
       "      <td>-3780.000000</td>\n",
       "      <td>-263.000000</td>\n",
       "      <td>-460.000000</td>\n",
       "      <td>-583.000000</td>\n",
       "      <td>131.000000</td>\n",
       "      <td>-105.000000</td>\n",
       "    </tr>\n",
       "    <tr>\n",
       "      <th>75%</th>\n",
       "      <td>-963.000000</td>\n",
       "      <td>-70.000000</td>\n",
       "      <td>2148.000000</td>\n",
       "      <td>-169.000000</td>\n",
       "      <td>268.000000</td>\n",
       "      <td>-33.000000</td>\n",
       "    </tr>\n",
       "    <tr>\n",
       "      <th>max</th>\n",
       "      <td>8054.000000</td>\n",
       "      <td>2315.000000</td>\n",
       "      <td>32767.000000</td>\n",
       "      <td>32767.000000</td>\n",
       "      <td>32767.000000</td>\n",
       "      <td>32214.000000</td>\n",
       "    </tr>\n",
       "  </tbody>\n",
       "</table>\n",
       "</div>"
      ],
      "text/plain": [
       "       acceleration_x  acceleration_y  acceleration_z   gyroscope_x  \\\n",
       "count     5933.000000     5933.000000     5933.000000   5933.000000   \n",
       "mean     -2727.422552     -615.323951      199.302208   -677.970504   \n",
       "std       1672.430265     1235.594803     2132.839151   2695.541801   \n",
       "min     -28028.000000   -32768.000000   -11878.000000 -32768.000000   \n",
       "25%      -3850.000000     -454.000000     -928.000000  -1043.000000   \n",
       "50%      -3780.000000     -263.000000     -460.000000   -583.000000   \n",
       "75%       -963.000000      -70.000000     2148.000000   -169.000000   \n",
       "max       8054.000000     2315.000000    32767.000000  32767.000000   \n",
       "\n",
       "        gyroscope_y   gyroscope_z  \n",
       "count   5933.000000   5933.000000  \n",
       "mean     109.168212   -190.047194  \n",
       "std     3145.529226   1889.699047  \n",
       "min   -32768.000000 -32768.000000  \n",
       "25%      -45.000000   -192.000000  \n",
       "50%      131.000000   -105.000000  \n",
       "75%      268.000000    -33.000000  \n",
       "max    32767.000000  32214.000000  "
      ]
     },
     "execution_count": 29,
     "metadata": {},
     "output_type": "execute_result"
    }
   ],
   "source": [
    "# Load dataset\n",
    "\n",
    "data = pd.read_csv('Julia_first_gym.csv')\n",
    "\n",
    "data = data[data.label != \"none\"].dropna()\n",
    "data.describe()"
   ]
  },
  {
   "cell_type": "code",
   "execution_count": 30,
   "metadata": {},
   "outputs": [],
   "source": [
    "# Separate features (sensor data) and labels\n",
    "X = data[['acceleration_x', 'acceleration_y', 'acceleration_z', \n",
    "          'gyroscope_x', 'gyroscope_y', 'gyroscope_z']]\n",
    "y = data['label']\n",
    "\n",
    "# Split data into training/test sets\n",
    "X_train, X_test, y_train, y_test = train_test_split(X, y, test_size=0.3, random_state=42)\n"
   ]
  },
  {
   "cell_type": "code",
   "execution_count": 31,
   "metadata": {},
   "outputs": [
    {
     "name": "stdout",
     "output_type": "stream",
     "text": [
      "Accuracy: 0.95\n"
     ]
    }
   ],
   "source": [
    "\n",
    "# Initialize and train classifier\n",
    "clf = RandomForestClassifier(n_estimators=100, max_depth=20)\n",
    "clf.fit(X_train, y_train)\n",
    "\n",
    "# Predict and evaluate\n",
    "y_pred = clf.predict(X_test)\n",
    "print(f\"Accuracy: {accuracy_score(y_test, y_pred):.2f}\")"
   ]
  },
  {
   "cell_type": "code",
   "execution_count": null,
   "metadata": {},
   "outputs": [],
   "source": []
  }
 ],
 "metadata": {
  "kernelspec": {
   "display_name": ".venv",
   "language": "python",
   "name": "python3"
  },
  "language_info": {
   "codemirror_mode": {
    "name": "ipython",
    "version": 3
   },
   "file_extension": ".py",
   "mimetype": "text/x-python",
   "name": "python",
   "nbconvert_exporter": "python",
   "pygments_lexer": "ipython3",
   "version": "3.13.1"
  }
 },
 "nbformat": 4,
 "nbformat_minor": 2
}
